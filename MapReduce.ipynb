{
  "nbformat": 4,
  "nbformat_minor": 0,
  "metadata": {
    "colab": {
      "provenance": [],
      "authorship_tag": "ABX9TyOxlr7zNrkfHsb+P2/Anybk",
      "include_colab_link": true
    },
    "kernelspec": {
      "name": "python3",
      "display_name": "Python 3"
    },
    "language_info": {
      "name": "python"
    }
  },
  "cells": [
    {
      "cell_type": "markdown",
      "metadata": {
        "id": "view-in-github",
        "colab_type": "text"
      },
      "source": [
        "<a href=\"https://colab.research.google.com/github/MehtiyevaNarmina/Big-Data/blob/main/MapReduce.ipynb\" target=\"_parent\"><img src=\"https://colab.research.google.com/assets/colab-badge.svg\" alt=\"Open In Colab\"/></a>"
      ]
    },
    {
      "cell_type": "code",
      "source": [
        "%%capture\n",
        "\n",
        "!pip install mrjob"
      ],
      "metadata": {
        "id": "J67VaKTprbd_"
      },
      "execution_count": 64,
      "outputs": []
    },
    {
      "cell_type": "markdown",
      "source": [
        "\n",
        "Every day at certain airports, people’s body temperatures are recorded in order to identify\n",
        "potentially ill people and alert them in important cases.\n",
        "You are provided with airport data containing the name of the airport, the date and temperature\n",
        "of the people who were at the airport on that day.\n",
        "According to that data, write the MapReduce program to find out on which days high\n",
        "temperatureswere detected, thus identifying potentially ill people."
      ],
      "metadata": {
        "id": "Zh277Z9RshZB"
      }
    },
    {
      "cell_type": "code",
      "source": [
        "%%file airportsensor.py\n",
        "from mrjob.job import MRJob\n",
        "\n",
        "class MRJob_1(MRJob):\n",
        "\n",
        "  def mapper(self,_,line):\n",
        "    key = line.split(',')[1].split()[0]\n",
        "    value = line.split(',')[1].split()[1]\n",
        "\n",
        "    if float(value) > 37.0:\n",
        "      yield key, 1\n",
        "\n",
        "  def reducer(self, key, values):\n",
        "    yield key, sum(values)\n",
        "\n",
        "if __name__ == '__main__':\n",
        "  MRJob_1.run()"
      ],
      "metadata": {
        "colab": {
          "base_uri": "https://localhost:8080/"
        },
        "id": "R1VAqV89shCu",
        "outputId": "c87f4aa5-6b04-4cb3-afb8-916f8aa34cff"
      },
      "execution_count": 65,
      "outputs": [
        {
          "output_type": "stream",
          "name": "stdout",
          "text": [
            "Overwriting airportsensor.py\n"
          ]
        }
      ]
    },
    {
      "cell_type": "code",
      "source": [
        "!python airportsensor.py /content/airportsensor.txt > output.txt"
      ],
      "metadata": {
        "colab": {
          "base_uri": "https://localhost:8080/"
        },
        "id": "K32X2XXFsg7T",
        "outputId": "619f9c57-8e35-4f5c-d5b6-e856bb570e23"
      },
      "execution_count": 66,
      "outputs": [
        {
          "output_type": "stream",
          "name": "stdout",
          "text": [
            "No configs found; falling back on auto-configuration\n",
            "No configs specified for inline runner\n",
            "Creating temp directory /tmp/airportsensor.root.20241222.193009.645872\n",
            "Running step 1 of 1...\n",
            "job output is in /tmp/airportsensor.root.20241222.193009.645872/output\n",
            "Streaming final output from /tmp/airportsensor.root.20241222.193009.645872/output...\n",
            "Removing temp directory /tmp/airportsensor.root.20241222.193009.645872...\n"
          ]
        }
      ]
    },
    {
      "cell_type": "markdown",
      "source": [
        "You have been given cards.csv data. Write a MapReduce program which returns the number of\n",
        "each suits."
      ],
      "metadata": {
        "id": "rstUvrtO2b85"
      }
    },
    {
      "cell_type": "code",
      "source": [
        "%%file cards.py\n",
        "from mrjob.job import MRJob\n",
        "\n",
        "class MRJob_2(MRJob):\n",
        "  def mapper(self, _,line):\n",
        "    key = line.split(',')[1]\n",
        "    value = line.split(',')[0]\n",
        "    yield key, 1\n",
        "\n",
        "  def  reducer(self, key, values):\n",
        "    yield key, sum(values)\n",
        "\n",
        "if __name__ == '__main__':\n",
        "  MRJob_2.run()"
      ],
      "metadata": {
        "colab": {
          "base_uri": "https://localhost:8080/"
        },
        "id": "sOYCB8NyrVkl",
        "outputId": "57a98c72-3ffb-4566-a7dd-e306e46aeb0c"
      },
      "execution_count": 67,
      "outputs": [
        {
          "output_type": "stream",
          "name": "stdout",
          "text": [
            "Overwriting cards.py\n"
          ]
        }
      ]
    },
    {
      "cell_type": "code",
      "source": [
        "!python cards.py /content/cards.csv > output_2.txt"
      ],
      "metadata": {
        "colab": {
          "base_uri": "https://localhost:8080/"
        },
        "id": "bxM_7YPPtDac",
        "outputId": "390718be-185c-418b-de2c-da8e9ada0152"
      },
      "execution_count": 68,
      "outputs": [
        {
          "output_type": "stream",
          "name": "stdout",
          "text": [
            "No configs found; falling back on auto-configuration\n",
            "No configs specified for inline runner\n",
            "Creating temp directory /tmp/cards.root.20241222.193052.307399\n",
            "Running step 1 of 1...\n",
            "job output is in /tmp/cards.root.20241222.193052.307399/output\n",
            "Streaming final output from /tmp/cards.root.20241222.193052.307399/output...\n",
            "Removing temp directory /tmp/cards.root.20241222.193052.307399...\n"
          ]
        }
      ]
    },
    {
      "cell_type": "markdown",
      "source": [
        "You have been given 'Life_of_PI_good_review.txt' data. According to that data write a\n",
        "MapReduce program which finds word frequencies for all words."
      ],
      "metadata": {
        "id": "d6Xe99_LtIdq"
      }
    },
    {
      "cell_type": "code",
      "source": [
        "%%file review.py\n",
        "from mrjob.job import MRJob\n",
        "import re\n",
        "\n",
        "class MRJob_3(MRJob):\n",
        "  def mapper(self, _, line):\n",
        "    words = re.findall(r'[a-z0-9]+', line.lower())\n",
        "    for word in words:\n",
        "      yield word, 1\n",
        "\n",
        "  def reducer(self, key, values):\n",
        "        # Sum up the counts for each word\n",
        "    yield key, sum(values)\n",
        "\n",
        "if __name__ == '__main__':\n",
        "    MRJob_3.run()\n"
      ],
      "metadata": {
        "colab": {
          "base_uri": "https://localhost:8080/"
        },
        "id": "SxxCv9S9tFLz",
        "outputId": "dcb7d32f-e829-470b-8593-dc1760638475"
      },
      "execution_count": 69,
      "outputs": [
        {
          "output_type": "stream",
          "name": "stdout",
          "text": [
            "Overwriting review.py\n"
          ]
        }
      ]
    },
    {
      "cell_type": "code",
      "source": [
        "!python review.py /content/Life_of_PI_good_review.txt > output_3.txt"
      ],
      "metadata": {
        "colab": {
          "base_uri": "https://localhost:8080/"
        },
        "id": "U7SURNoiul_l",
        "outputId": "6288e483-982b-4cb8-9a70-c29d4e5500ba"
      },
      "execution_count": 70,
      "outputs": [
        {
          "output_type": "stream",
          "name": "stdout",
          "text": [
            "No configs found; falling back on auto-configuration\n",
            "No configs specified for inline runner\n",
            "Creating temp directory /tmp/review.root.20241222.193108.440069\n",
            "Running step 1 of 1...\n",
            "job output is in /tmp/review.root.20241222.193108.440069/output\n",
            "Streaming final output from /tmp/review.root.20241222.193108.440069/output...\n",
            "Removing temp directory /tmp/review.root.20241222.193108.440069...\n"
          ]
        }
      ]
    },
    {
      "cell_type": "code",
      "source": [],
      "metadata": {
        "id": "7uL4XVMf2hZH"
      },
      "execution_count": null,
      "outputs": []
    }
  ]
}